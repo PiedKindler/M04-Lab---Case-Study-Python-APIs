{
 "cells": [
  {
   "cell_type": "code",
   "execution_count": 10,
   "id": "2872c3d1-3de4-4193-8a6c-fcb1e7479ac7",
   "metadata": {},
   "outputs": [
    {
     "ename": "ModuleNotFoundError",
     "evalue": "No module named 'flask_sqlalchemy'",
     "output_type": "error",
     "traceback": [
      "\u001b[1;31m---------------------------------------------------------------------------\u001b[0m",
      "\u001b[1;31mModuleNotFoundError\u001b[0m                       Traceback (most recent call last)",
      "\u001b[1;32m~\\AppData\\Local\\Temp\\ipykernel_28460\\3068598511.py\u001b[0m in \u001b[0;36m<module>\u001b[1;34m\u001b[0m\n\u001b[0;32m      1\u001b[0m \u001b[1;32mfrom\u001b[0m \u001b[0mflask\u001b[0m \u001b[1;32mimport\u001b[0m \u001b[0mFlask\u001b[0m\u001b[1;33m\u001b[0m\u001b[1;33m\u001b[0m\u001b[0m\n\u001b[0;32m      2\u001b[0m \u001b[0mapp\u001b[0m \u001b[1;33m=\u001b[0m \u001b[0mFlask\u001b[0m\u001b[1;33m(\u001b[0m\u001b[0m__name__\u001b[0m\u001b[1;33m)\u001b[0m\u001b[1;33m\u001b[0m\u001b[1;33m\u001b[0m\u001b[0m\n\u001b[1;32m----> 3\u001b[1;33m \u001b[1;32mfrom\u001b[0m \u001b[0mflask_sqlalchemy\u001b[0m \u001b[1;32mimport\u001b[0m \u001b[0mSQLAlchemy\u001b[0m\u001b[1;33m\u001b[0m\u001b[1;33m\u001b[0m\u001b[0m\n\u001b[0m\u001b[0;32m      4\u001b[0m \u001b[1;33m\u001b[0m\u001b[0m\n\u001b[0;32m      5\u001b[0m \u001b[0mapp\u001b[0m\u001b[1;33m.\u001b[0m\u001b[0mconfig\u001b[0m\u001b[1;33m[\u001b[0m\u001b[1;34m'SQLALCHEMY_DATABASE_URI'\u001b[0m\u001b[1;33m]\u001b[0m \u001b[1;33m=\u001b[0m \u001b[1;34m'sqlite//data.db'\u001b[0m\u001b[1;33m\u001b[0m\u001b[1;33m\u001b[0m\u001b[0m\n",
      "\u001b[1;31mModuleNotFoundError\u001b[0m: No module named 'flask_sqlalchemy'"
     ]
    }
   ],
   "source": [
    "#     Misty Mayfield\n",
    "#     CO3937652\n",
    "#     SDEV220 Spring Software Development\n",
    "#     M04 Lab - Case Study: Python APIs\n",
    "#     2/13/23\n",
    "#     I know that this was supposed to be run in vscode but I couldn't test it at all since I couldn't get permissions for a virtual environment to activate for some reason.\n",
    "#     I moved it here so that I could at least get a little farther.  It still wasn't much farther as you can see by the error below.\n",
    "\n",
    "\n",
    "\n",
    "from flask import Flask, request\n",
    "from flask_sqlalchemy import SQLAlchemy\n",
    "app = Flask(__name__)\n",
    "\n",
    "app.config['SQLALCHEMY_DATABASE_URI'] = 'sqlite//data.db'\n",
    "db = SQLAlchemy(app)\n",
    "\n",
    "class Book(db.Model):\n",
    "    id = db.Column(db.Integer, primary_key=True)\n",
    "    book_name = db.Column(db.String(80), unique=True,nullable=False)\n",
    "    author =  db/Column(db.String(120))\n",
    "    publisher = db/Column(db.String(130))\n",
    "    \n",
    "def __repr__(self):\n",
    "    return f\"{self.book_name} - {self.author} - {self.publisher}\"\n",
    "\n",
    "@app.route('/')\n",
    "def index():\n",
    "    return 'Hello!'\n",
    "\n",
    "@app.route('/books')\n",
    "def get_books():\n",
    "    books = Book.query.all()\n",
    "    \n",
    "    output = []\n",
    "    for book in books:\n",
    "        book_data = {'name': book.book_name, 'author': book.author, 'publisher': book.publisher}\n",
    "        \n",
    "        output.append(book_data)\n",
    "        \n",
    "    return {\"books\": output}\n",
    "\n",
    "@app.route('/books/<id>')\n",
    "def get_book(id):\n",
    "    book = Book.query.get_or_404(id)\n",
    "    return jsonify({\"name\": book.book_name, \"author\": book.author, \"publisher\":book.publisher})\n",
    "\n",
    "@app.route('/books', methods=['POST'])\n",
    "def add_book():\n",
    "    book =  Book(book_name=request.json['book_name'], autjhor=request.json['author'], publisher=request.json['publisher'])\n",
    "    db.session.add(book)\n",
    "    db.session.commit()\n",
    "    return {'id':book.id}\n",
    "\n",
    "@app.route('/books/<id>', methods=['DELETE'])\n",
    "def delete_book(id):\n",
    "    book = Book.query.get(id)\n",
    "    if book is None:\n",
    "        return {\"error\":\"not found\"}\n",
    "    db.session.delete(book)\n",
    "    db.session.commit()\n",
    "    return {\"message\": \"success\"}\n",
    "    \n",
    "db.create_all()\n",
    "book = Book(book_name=\"Grapes of Wrath\", author=\"John Steinbeck\", publisher=\"The Viking Press\")\n",
    "db.session.add(book)\n",
    "db.session.commit()\n",
    "db.session.add(Book(book_name=\"The Cherry Pie Baby\", author=\"Kay Chorao\", publisher=\"Dutton Books\"))\n",
    "db.session.commit()\n",
    "Book.query.all()"
   ]
  }
 ],
 "metadata": {
  "kernelspec": {
   "display_name": "Python 3 (ipykernel)",
   "language": "python",
   "name": "python3"
  },
  "language_info": {
   "codemirror_mode": {
    "name": "ipython",
    "version": 3
   },
   "file_extension": ".py",
   "mimetype": "text/x-python",
   "name": "python",
   "nbconvert_exporter": "python",
   "pygments_lexer": "ipython3",
   "version": "3.9.13"
  }
 },
 "nbformat": 4,
 "nbformat_minor": 5
}
